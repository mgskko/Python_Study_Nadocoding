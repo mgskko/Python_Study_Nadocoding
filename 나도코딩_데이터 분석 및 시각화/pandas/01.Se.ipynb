{
 "cells": [
  {
   "cell_type": "markdown",
   "id": "8b7212c7",
   "metadata": {},
   "source": [
    "# pandas\n",
    "파이썬에서 사용하는 데이터 분석 라이브러리"
   ]
  },
  {
   "cell_type": "code",
   "execution_count": 1,
   "id": "c4ab691a",
   "metadata": {},
   "outputs": [],
   "source": [
    "import pandas as pd"
   ]
  },
  {
   "cell_type": "markdown",
   "id": "1b393d6e",
   "metadata": {},
   "source": [
    "# 1. Series\n",
    "1차원 데이터 ( 정수, 실수 , 문자열 등)"
   ]
  },
  {
   "cell_type": "markdown",
   "id": "88bc7c29",
   "metadata": {},
   "source": [
    "## Series 객체 생성\n",
    "예 ) 1월부터 4월까지 평균 온도 데이터(-20,-10,10,20)"
   ]
  },
  {
   "cell_type": "code",
   "execution_count": 2,
   "id": "8458ee05",
   "metadata": {},
   "outputs": [
    {
     "name": "stdout",
     "output_type": "stream",
     "text": [
      "0   -20\n",
      "1   -10\n",
      "2    10\n",
      "3    20\n",
      "dtype: int64\n"
     ]
    }
   ],
   "source": [
    "temp = pd.Series([-20,-10,10,20])\n",
    "print(temp)"
   ]
  },
  {
   "cell_type": "code",
   "execution_count": 3,
   "id": "d655a247",
   "metadata": {},
   "outputs": [
    {
     "data": {
      "text/plain": [
       "-20"
      ]
     },
     "execution_count": 3,
     "metadata": {},
     "output_type": "execute_result"
    }
   ],
   "source": [
    "temp[0]"
   ]
  },
  {
   "cell_type": "code",
   "execution_count": 4,
   "id": "e904e644",
   "metadata": {},
   "outputs": [
    {
     "data": {
      "text/plain": [
       "10"
      ]
     },
     "execution_count": 4,
     "metadata": {},
     "output_type": "execute_result"
    }
   ],
   "source": [
    "temp[2]"
   ]
  },
  {
   "cell_type": "markdown",
   "id": "214e64cf",
   "metadata": {},
   "source": [
    "# Series 객체 생성 (index 지정)"
   ]
  },
  {
   "cell_type": "code",
   "execution_count": 5,
   "id": "0e8ad168",
   "metadata": {},
   "outputs": [
    {
     "data": {
      "text/plain": [
       "Jan   -20\n",
       "Feb   -10\n",
       "Mar    10\n",
       "Apr    20\n",
       "dtype: int64"
      ]
     },
     "execution_count": 5,
     "metadata": {},
     "output_type": "execute_result"
    }
   ],
   "source": [
    "temp = pd.Series([-20 , -10, 10, 20], index = ['Jan','Feb','Mar','Apr'])\n",
    "temp"
   ]
  },
  {
   "cell_type": "code",
   "execution_count": 7,
   "id": "719a6734",
   "metadata": {},
   "outputs": [
    {
     "data": {
      "text/plain": [
       "-20"
      ]
     },
     "execution_count": 7,
     "metadata": {},
     "output_type": "execute_result"
    }
   ],
   "source": [
    "temp['Jan']"
   ]
  },
  {
   "cell_type": "code",
   "execution_count": null,
   "id": "3ac66c22",
   "metadata": {},
   "outputs": [],
   "source": []
  }
 ],
 "metadata": {
  "kernelspec": {
   "display_name": "Python 3 (ipykernel)",
   "language": "python",
   "name": "python3"
  },
  "language_info": {
   "codemirror_mode": {
    "name": "ipython",
    "version": 3
   },
   "file_extension": ".py",
   "mimetype": "text/x-python",
   "name": "python",
   "nbconvert_exporter": "python",
   "pygments_lexer": "ipython3",
   "version": "3.9.12"
  }
 },
 "nbformat": 4,
 "nbformat_minor": 5
}
